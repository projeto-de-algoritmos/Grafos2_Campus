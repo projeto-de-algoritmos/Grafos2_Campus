{
 "cells": [
  {
   "cell_type": "markdown",
   "metadata": {},
   "source": [
    "# Campus!\n",
    "Bem-vindo ao campus, a aplicação que te permite ser o engenheiro de estradas e rodagens da nossa querida FGA! Seu papel é ligar todos os prédios do campus com o custo de cada via. Porém, existe uma condição, todos os prédios poderão ser acessado de qualquer um deles, ou seja, você deverá poder ir, por exemplo, do RU para qualquer um dos outros 3.\n",
    "![fga](img/fga.jpeg)"
   ]
  },
  {
   "cell_type": "markdown",
   "metadata": {},
   "source": [
    "As opções de prédio são:\n",
    "* UAC\n",
    "* UED\n",
    "* NOVO\n",
    "* RU"
   ]
  },
  {
   "cell_type": "code",
   "execution_count": 49,
   "metadata": {},
   "outputs": [],
   "source": [
    "import solving_algorithm as sa\n",
    "import networkx as nx"
   ]
  },
  {
   "cell_type": "code",
   "execution_count": 50,
   "metadata": {
    "scrolled": true
   },
   "outputs": [
    {
     "name": "stdout",
     "output_type": "stream",
     "text": [
      "INSIRA O NOME DO PREDIO DE ORIGEM!   UAC\n",
      "INSIRA O NOME DO PREDIO DE DESTINO!  UED\n",
      "INSIRA O PREÇO DA ESTRADA!  50\n",
      "INSIRA O NOME DO PREDIO DE ORIGEM!   UED\n",
      "INSIRA O NOME DO PREDIO DE DESTINO!  NOVO\n",
      "INSIRA O PREÇO DA ESTRADA!  20\n",
      "INSIRA O NOME DO PREDIO DE ORIGEM!   NOVO\n",
      "INSIRA O NOME DO PREDIO DE DESTINO!  RU\n",
      "INSIRA O PREÇO DA ESTRADA!  10\n",
      "INSIRA O NOME DO PREDIO DE ORIGEM!   UAC\n",
      "INSIRA O NOME DO PREDIO DE DESTINO!  NOVO\n",
      "INSIRA O PREÇO DA ESTRADA!  10\n"
     ]
    }
   ],
   "source": [
    "adj_list = {\n",
    "    \"UAC\": {\n",
    "    },\n",
    "    \"UED\": {\n",
    "    },\n",
    "    \"RU\": {\n",
    "    },\n",
    "    \"NOVO\": {\n",
    "    }\n",
    "}\n",
    "adj_arr = []\n",
    "for elem in range(0,4):\n",
    "    predio1 = input(\"INSIRA O NOME DO PREDIO DE ORIGEM!   \")\n",
    "    predio2 = input(\"INSIRA O NOME DO PREDIO DE DESTINO!  \")    \n",
    "    preco = input(\"INSIRA O PREÇO DA ESTRADA!  \")\n",
    "    adj_list[str(predio1)][str(predio2)] = int(preco)\n",
    "    temp = [predio1, predio2, int(preco)]\n",
    "    adj_arr.append(temp)    "
   ]
  },
  {
   "cell_type": "code",
   "execution_count": 51,
   "metadata": {
    "scrolled": false
   },
   "outputs": [],
   "source": [
    "campus  = sa.create_nx_graph(adj_arr)\n",
    "prim_mst = sa.mst_prim_visualization(campus)"
   ]
  },
  {
   "cell_type": "markdown",
   "metadata": {},
   "source": [
    "# Resultado do projeto de estradas!"
   ]
  },
  {
   "cell_type": "code",
   "execution_count": 52,
   "metadata": {
    "scrolled": true
   },
   "outputs": [
    {
     "name": "stdout",
     "output_type": "stream",
     "text": [
      "PARABÉNS, SEU PROJETO DEU CERTO! E O CUSTO: 70 REAIS\n"
     ]
    }
   ],
   "source": [
    "if nx.number_connected_components(campus) == 1:\n",
    "    print(\"PARABÉNS, SEU PROJETO DEU CERTO! E O CUSTO: \" + str(sa.complete_prim_algorithm(adj_list)) + \" REAIS\")\n",
    "else:\n",
    "    print(\"Projeto Impossível!\")"
   ]
  },
  {
   "cell_type": "markdown",
   "metadata": {},
   "source": [
    "# Árvore geradora mínima "
   ]
  },
  {
   "cell_type": "markdown",
   "metadata": {},
   "source": [
    "CUSTO DA ÁRVORE GERADORA MÍNIMA"
   ]
  },
  {
   "cell_type": "code",
   "execution_count": 55,
   "metadata": {},
   "outputs": [
    {
     "data": {
      "text/plain": [
       "70"
      ]
     },
     "execution_count": 55,
     "metadata": {},
     "output_type": "execute_result"
    }
   ],
   "source": [
    "sa.complete_prim_algorithm(adj_list)"
   ]
  },
  {
   "cell_type": "code",
   "execution_count": 53,
   "metadata": {
    "scrolled": true
   },
   "outputs": [
    {
     "data": {
      "image/png": "[encoded data removed]",
      "text/plain": [
       "<Figure size 432x288 with 1 Axes>"
      ]
     },
     "metadata": {},
     "output_type": "display_data"
    }
   ],
   "source": [
    "nx.draw_networkx(prim_mst)"
   ]
  },
  {
   "cell_type": "code",
   "execution_count": 54,
   "metadata": {},
   "outputs": [
    {
     "data": {
      "image/png": "[encoded data removed]",
      "text/plain": [
       "<Figure size 432x288 with 1 Axes>"
      ]
     },
     "metadata": {},
     "output_type": "display_data"
    }
   ],
   "source": [
    "nx.draw_networkx(campus)"
   ]
  }
 ],
 "metadata": {
  "kernelspec": {
   "display_name": "Python 3",
   "language": "python",
   "name": "python3"
  },
  "language_info": {
   "codemirror_mode": {
    "name": "ipython",
    "version": 3
   },
   "file_extension": ".py",
   "mimetype": "text/x-python",
   "name": "python",
   "nbconvert_exporter": "python",
   "pygments_lexer": "ipython3",
   "version": "3.8.2"
  }
 },
 "nbformat": 4,
 "nbformat_minor": 4
}
